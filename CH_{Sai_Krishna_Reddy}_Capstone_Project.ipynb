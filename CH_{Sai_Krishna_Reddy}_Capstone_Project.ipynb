{
  "nbformat": 4,
  "nbformat_minor": 0,
  "metadata": {
    "kernelspec": {
      "display_name": "Python 3",
      "language": "python",
      "name": "python3"
    },
    "language_info": {
      "codemirror_mode": {
        "name": "ipython",
        "version": 3
      },
      "file_extension": ".py",
      "mimetype": "text/x-python",
      "name": "python",
      "nbconvert_exporter": "python",
      "pygments_lexer": "ipython3",
      "version": "3.6.6"
    },
    "colab": {
      "name": "CH - {Sai Krishna Reddy} - Capstone Project.ipynb",
      "provenance": [],
      "include_colab_link": true
    }
  },
  "cells": [
    {
      "cell_type": "markdown",
      "metadata": {
        "id": "view-in-github",
        "colab_type": "text"
      },
      "source": [
        "<a href=\"https://colab.research.google.com/github/saikrishnareddypalle/Hotel-booking-analysis/blob/main/CH_%7BSai_Krishna_Reddy%7D_Capstone_Project.ipynb\" target=\"_parent\"><img src=\"https://colab.research.google.com/assets/colab-badge.svg\" alt=\"Open In Colab\"/></a>"
      ]
    },
    {
      "cell_type": "markdown",
      "metadata": {
        "id": "Y06xIdG26kRF"
      },
      "source": [
        "## <b> Have you ever wondered when the best time of year to book a hotel room is? Or the optimal length of stay in order to get the best daily rate? What if you wanted to predict whether or not a hotel was likely to receive a disproportionately high number of special requests? This hotel booking dataset can help you explore those questions!\n",
        "\n",
        "## <b>This data set contains booking information for a city hotel and a resort hotel, and includes information such as when the booking was made, length of stay, the number of adults, children, and/or babies, and the number of available parking spaces, among other things. All personally identifying information has been removed from the data. </b>\n",
        "\n",
        "## <b> Explore and analyze the data to discover important factors that govern the bookings. </b>"
      ]
    },
    {
      "cell_type": "code",
      "metadata": {
        "id": "dByMsuzT8Tnw"
      },
      "source": [
        "import pandas as pd\n",
        "import numpy as np\n",
        "import matplotlib.pyplot as plt\n",
        "import seaborn as sn\n",
        "\n",
        "%matplotlib inline"
      ],
      "execution_count": 8,
      "outputs": []
    },
    {
      "cell_type": "code",
      "metadata": {
        "id": "nbe3j6xUblJh",
        "colab": {
          "base_uri": "https://localhost:8080/"
        },
        "outputId": "ad7d1d37-ca4c-45c9-c9de-15b30a6ee499"
      },
      "source": [
        "from google.colab import drive\n",
        "drive.mount('/content/drive')"
      ],
      "execution_count": 9,
      "outputs": [
        {
          "output_type": "stream",
          "text": [
            "Drive already mounted at /content/drive; to attempt to forcibly remount, call drive.mount(\"/content/drive\", force_remount=True).\n"
          ],
          "name": "stdout"
        }
      ]
    },
    {
      "cell_type": "code",
      "metadata": {
        "id": "jzCxJRmc31g8"
      },
      "source": [
        "working_directory = '/content/drive/MyDrive/Colab Notebooks/Python for Data science/Projects/'\n",
        "df = pd.read_csv(working_directory + 'Hotel Bookings.csv')"
      ],
      "execution_count": 10,
      "outputs": []
    },
    {
      "cell_type": "code",
      "metadata": {
        "id": "vPW_GyoK-Qhz"
      },
      "source": [
        "df"
      ],
      "execution_count": null,
      "outputs": []
    },
    {
      "cell_type": "code",
      "metadata": {
        "id": "K7pXAUZ95ht1"
      },
      "source": [
        "df.info()"
      ],
      "execution_count": null,
      "outputs": []
    },
    {
      "cell_type": "code",
      "metadata": {
        "id": "ELwsPyV15uUL"
      },
      "source": [
        "df.head(5)"
      ],
      "execution_count": null,
      "outputs": []
    },
    {
      "cell_type": "markdown",
      "metadata": {
        "id": "d9EfAUJ7-cfE"
      },
      "source": [
        ""
      ]
    },
    {
      "cell_type": "code",
      "metadata": {
        "id": "nwpL9q8MBNmY"
      },
      "source": [
        "df.describe()"
      ],
      "execution_count": null,
      "outputs": []
    },
    {
      "cell_type": "code",
      "metadata": {
        "id": "YtuxTWz0AQUd"
      },
      "source": [
        "df_a = df.drop(columns= ['agent', 'company', 'adults'])\n",
        "df_a"
      ],
      "execution_count": null,
      "outputs": []
    },
    {
      "cell_type": "code",
      "metadata": {
        "colab": {
          "base_uri": "https://localhost:8080/",
          "height": 234
        },
        "id": "CGy_T2vYAcLH",
        "outputId": "0b6a4ab5-82ff-4b8f-fd97-5f637c3d31c3"
      },
      "source": [
        "df_a[df_a['is_canceled'] != 1].groupby('distribution_channel').agg({'adr': 'sum'}).sort_values(by='adr',ascending=False)"
      ],
      "execution_count": 18,
      "outputs": [
        {
          "output_type": "execute_result",
          "data": {
            "text/html": [
              "<div>\n",
              "<style scoped>\n",
              "    .dataframe tbody tr th:only-of-type {\n",
              "        vertical-align: middle;\n",
              "    }\n",
              "\n",
              "    .dataframe tbody tr th {\n",
              "        vertical-align: top;\n",
              "    }\n",
              "\n",
              "    .dataframe thead th {\n",
              "        text-align: right;\n",
              "    }\n",
              "</style>\n",
              "<table border=\"1\" class=\"dataframe\">\n",
              "  <thead>\n",
              "    <tr style=\"text-align: right;\">\n",
              "      <th></th>\n",
              "      <th>adr</th>\n",
              "    </tr>\n",
              "    <tr>\n",
              "      <th>distribution_channel</th>\n",
              "      <th></th>\n",
              "    </tr>\n",
              "  </thead>\n",
              "  <tbody>\n",
              "    <tr>\n",
              "      <th>TA/TO</th>\n",
              "      <td>5865166.66</td>\n",
              "    </tr>\n",
              "    <tr>\n",
              "      <th>Direct</th>\n",
              "      <td>1281794.70</td>\n",
              "    </tr>\n",
              "    <tr>\n",
              "      <th>Corporate</th>\n",
              "      <td>349891.25</td>\n",
              "    </tr>\n",
              "    <tr>\n",
              "      <th>GDS</th>\n",
              "      <td>18709.62</td>\n",
              "    </tr>\n",
              "    <tr>\n",
              "      <th>Undefined</th>\n",
              "      <td>112.70</td>\n",
              "    </tr>\n",
              "  </tbody>\n",
              "</table>\n",
              "</div>"
            ],
            "text/plain": [
              "                             adr\n",
              "distribution_channel            \n",
              "TA/TO                 5865166.66\n",
              "Direct                1281794.70\n",
              "Corporate              349891.25\n",
              "GDS                     18709.62\n",
              "Undefined                 112.70"
            ]
          },
          "metadata": {
            "tags": []
          },
          "execution_count": 18
        }
      ]
    },
    {
      "cell_type": "code",
      "metadata": {
        "id": "p3SO-WXSAfcB"
      },
      "source": [
        "df_a.groupby('distribution_channel').agg({'adr': 'sum'}).sort_values(by='adr',ascending=False)"
      ],
      "execution_count": null,
      "outputs": []
    },
    {
      "cell_type": "code",
      "metadata": {
        "id": "DmvXJ0EMBujC"
      },
      "source": [
        "df_a.groupby('distribution_channel').agg({'adr': 'mean'}).sort_values(by='adr',ascending=False)"
      ],
      "execution_count": null,
      "outputs": []
    },
    {
      "cell_type": "code",
      "metadata": {
        "id": "pkNnW_7HBusA"
      },
      "source": [
        "df_a['hotel'].value_counts()"
      ],
      "execution_count": null,
      "outputs": []
    },
    {
      "cell_type": "code",
      "metadata": {
        "id": "PT3aNYaTBu0o"
      },
      "source": [
        "df_a[df_a['is_canceled'] != 1]['hotel'].value_counts()"
      ],
      "execution_count": null,
      "outputs": []
    },
    {
      "cell_type": "code",
      "metadata": {
        "id": "0LOvHrvcBu3M"
      },
      "source": [
        "df_count = df_a[df_a['is_canceled'] != 1].groupby(['country','hotel']).agg({'hotel': 'count'})\n",
        "df_count"
      ],
      "execution_count": null,
      "outputs": []
    },
    {
      "cell_type": "code",
      "metadata": {
        "id": "Gx2DkjxlBu7D"
      },
      "source": [
        "df_count.rename(columns={'hotel': 'no_of_bookings'},inplace=True)"
      ],
      "execution_count": null,
      "outputs": []
    },
    {
      "cell_type": "code",
      "metadata": {
        "id": "Fcdb6cW2BvAz"
      },
      "source": [
        "df_count.sort_values(by='no_of_bookings', ascending=False).head(20)"
      ],
      "execution_count": null,
      "outputs": []
    },
    {
      "cell_type": "code",
      "metadata": {
        "id": "GTtgelUFBvDu"
      },
      "source": [
        "df_count2 = df_a.groupby(['country','hotel']).agg({'hotel': 'count'})\n",
        "df_count2"
      ],
      "execution_count": null,
      "outputs": []
    },
    {
      "cell_type": "code",
      "metadata": {
        "id": "10dzTOg2C6FZ"
      },
      "source": [
        "df_count2.rename(columns={'hotel': 'no_of_bookings'},inplace=True)"
      ],
      "execution_count": null,
      "outputs": []
    },
    {
      "cell_type": "code",
      "metadata": {
        "id": "sJxPngJkC6K7"
      },
      "source": [
        "df_count2.sort_values(by='no_of_bookings', ascending=False).head(20)"
      ],
      "execution_count": null,
      "outputs": []
    },
    {
      "cell_type": "code",
      "metadata": {
        "id": "fQ5SfDdxC6NX"
      },
      "source": [
        "df_a.head(2)"
      ],
      "execution_count": null,
      "outputs": []
    },
    {
      "cell_type": "code",
      "metadata": {
        "id": "alg-pNhdC6P5"
      },
      "source": [
        "df_b = pd.DataFrame(df_a[df_a['is_canceled'] !=1 ][['lead_time','is_canceled']])"
      ],
      "execution_count": null,
      "outputs": []
    },
    {
      "cell_type": "code",
      "metadata": {
        "id": "Y8XxdPE4C6Su"
      },
      "source": [
        "df_b.groupby('is_canceled')['lead_time'].describe()"
      ],
      "execution_count": null,
      "outputs": []
    },
    {
      "cell_type": "code",
      "metadata": {
        "id": "ZPDHZp8jC6VD"
      },
      "source": [
        "df_b = pd.DataFrame(df_a[df_a['is_canceled'] ==1 ][['lead_time','is_canceled']])"
      ],
      "execution_count": null,
      "outputs": []
    },
    {
      "cell_type": "code",
      "metadata": {
        "id": "h6oKI_2WC6Xw"
      },
      "source": [
        "df_b.groupby('is_canceled')['lead_time'].describe()"
      ],
      "execution_count": null,
      "outputs": []
    },
    {
      "cell_type": "code",
      "metadata": {
        "id": "HY7Ogtx8C6aT"
      },
      "source": [
        "df_b.sort_values(by='lead_time', ascending=False)"
      ],
      "execution_count": null,
      "outputs": []
    },
    {
      "cell_type": "code",
      "metadata": {
        "id": "Nu3iOWL4DHuU"
      },
      "source": [
        "df_a.head(2)"
      ],
      "execution_count": null,
      "outputs": []
    },
    {
      "cell_type": "code",
      "metadata": {
        "id": "xPm-KQRuDHxK"
      },
      "source": [
        "df_c = df_a[['hotel','arrival_date_month']]\n",
        "df_c"
      ],
      "execution_count": null,
      "outputs": []
    },
    {
      "cell_type": "code",
      "metadata": {
        "id": "VET4UqerDHzc"
      },
      "source": [
        "df_d = pd.DataFrame(df_c.groupby('arrival_date_month')['hotel'].value_counts())"
      ],
      "execution_count": null,
      "outputs": []
    },
    {
      "cell_type": "code",
      "metadata": {
        "id": "I5DiMgreDH2L"
      },
      "source": [
        "df_d"
      ],
      "execution_count": null,
      "outputs": []
    },
    {
      "cell_type": "code",
      "metadata": {
        "id": "VzkoqDdDDH4Q"
      },
      "source": [
        "df_d.rename(columns={'hotel':'no_of_bookings'}, inplace=True)\n",
        "df_d"
      ],
      "execution_count": null,
      "outputs": []
    },
    {
      "cell_type": "code",
      "metadata": {
        "id": "dgdOSQcaDH6i"
      },
      "source": [
        "# peak months are may, june, july and august\n",
        "\n",
        "df_d.sort_values(by='no_of_bookings', ascending=False)"
      ],
      "execution_count": null,
      "outputs": []
    },
    {
      "cell_type": "code",
      "metadata": {
        "id": "shpbOY3WDH84"
      },
      "source": [
        ""
      ],
      "execution_count": null,
      "outputs": []
    }
  ]
}