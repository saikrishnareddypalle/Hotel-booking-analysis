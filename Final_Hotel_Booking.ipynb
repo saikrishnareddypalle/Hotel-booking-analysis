{
  "nbformat": 4,
  "nbformat_minor": 0,
  "metadata": {
    "colab": {
      "name": "Final_Hotel_Booking.ipynb",
      "provenance": [],
      "collapsed_sections": [],
      "include_colab_link": true
    },
    "kernelspec": {
      "name": "python3",
      "display_name": "Python 3"
    },
    "language_info": {
      "name": "python"
    }
  },
  "cells": [
    {
      "cell_type": "markdown",
      "metadata": {
        "id": "view-in-github",
        "colab_type": "text"
      },
      "source": [
        "<a href=\"https://colab.research.google.com/github/saikrishnareddypalle/Hotel-booking-analysis/blob/main/Final_Hotel_Booking.ipynb\" target=\"_parent\"><img src=\"https://colab.research.google.com/assets/colab-badge.svg\" alt=\"Open In Colab\"/></a>"
      ]
    },
    {
      "cell_type": "markdown",
      "metadata": {
        "id": "tHKvzzGrkHEi"
      },
      "source": [
        "## <b> Have you ever wondered when the best time of year to book a hotel room is? Or the optimal length of stay in order to get the best daily rate? What if you wanted to predict whether or not a hotel was likely to receive a disproportionately high number of special requests? This hotel booking dataset can help you explore those questions!\n"
      ]
    },
    {
      "cell_type": "code",
      "metadata": {
        "id": "Jcb5Cz6MtIqh"
      },
      "source": [
        ""
      ],
      "execution_count": null,
      "outputs": []
    },
    {
      "cell_type": "markdown",
      "metadata": {
        "id": "XAAC9BCokWHZ"
      },
      "source": [
        "## <b>This data set contains booking information for a city hotel and a resort hotel, and includes information such as when the booking was made, length of stay, the number of adults, children, and/or babies, and the number of available parking spaces, among other things. All personally identifying information has been removed from the data. </b>"
      ]
    },
    {
      "cell_type": "code",
      "metadata": {
        "id": "PLuDKVyQqRRH"
      },
      "source": [
        "import numpy as np\n",
        "import pandas as pd\n",
        "import matplotlib.pyplot as plt\n",
        "import seaborn as sn\n",
        "\n",
        "%matplotlib inline"
      ],
      "execution_count": null,
      "outputs": []
    },
    {
      "cell_type": "code",
      "metadata": {
        "id": "qbarF9a-qREH"
      },
      "source": [
        "from google.colab import drive\n",
        "drive.mount('/content/drive')"
      ],
      "execution_count": null,
      "outputs": []
    },
    {
      "cell_type": "code",
      "metadata": {
        "id": "07pCN0DcqRAH"
      },
      "source": [
        "path = '/content/drive/MyDrive/Alma Better/Python for data science/capstone - Hotel Booking Analysis/Copy of Hotel Bookings.csv'"
      ],
      "execution_count": null,
      "outputs": []
    },
    {
      "cell_type": "code",
      "metadata": {
        "id": "-EbiKOwDqQ75"
      },
      "source": [
        "df = pd.read_csv(path)"
      ],
      "execution_count": null,
      "outputs": []
    },
    {
      "cell_type": "code",
      "metadata": {
        "colab": {
          "base_uri": "https://localhost:8080/",
          "height": 307
        },
        "id": "kpXgXW6rqQzX",
        "outputId": "130f65d8-39c9-4792-cefa-b32717f48f5a"
      },
      "source": [
        "df.head()"
      ],
      "execution_count": null,
      "outputs": [
        {
          "output_type": "execute_result",
          "data": {
            "text/html": [
              "<div>\n",
              "<style scoped>\n",
              "    .dataframe tbody tr th:only-of-type {\n",
              "        vertical-align: middle;\n",
              "    }\n",
              "\n",
              "    .dataframe tbody tr th {\n",
              "        vertical-align: top;\n",
              "    }\n",
              "\n",
              "    .dataframe thead th {\n",
              "        text-align: right;\n",
              "    }\n",
              "</style>\n",
              "<table border=\"1\" class=\"dataframe\">\n",
              "  <thead>\n",
              "    <tr style=\"text-align: right;\">\n",
              "      <th></th>\n",
              "      <th>hotel</th>\n",
              "      <th>is_canceled</th>\n",
              "      <th>lead_time</th>\n",
              "      <th>arrival_date_year</th>\n",
              "      <th>arrival_date_month</th>\n",
              "      <th>arrival_date_week_number</th>\n",
              "      <th>arrival_date_day_of_month</th>\n",
              "      <th>stays_in_weekend_nights</th>\n",
              "      <th>stays_in_week_nights</th>\n",
              "      <th>adults</th>\n",
              "      <th>children</th>\n",
              "      <th>babies</th>\n",
              "      <th>meal</th>\n",
              "      <th>country</th>\n",
              "      <th>market_segment</th>\n",
              "      <th>distribution_channel</th>\n",
              "      <th>is_repeated_guest</th>\n",
              "      <th>previous_cancellations</th>\n",
              "      <th>previous_bookings_not_canceled</th>\n",
              "      <th>reserved_room_type</th>\n",
              "      <th>assigned_room_type</th>\n",
              "      <th>booking_changes</th>\n",
              "      <th>deposit_type</th>\n",
              "      <th>agent</th>\n",
              "      <th>company</th>\n",
              "      <th>days_in_waiting_list</th>\n",
              "      <th>customer_type</th>\n",
              "      <th>adr</th>\n",
              "      <th>required_car_parking_spaces</th>\n",
              "      <th>total_of_special_requests</th>\n",
              "      <th>reservation_status</th>\n",
              "      <th>reservation_status_date</th>\n",
              "    </tr>\n",
              "  </thead>\n",
              "  <tbody>\n",
              "    <tr>\n",
              "      <th>0</th>\n",
              "      <td>Resort Hotel</td>\n",
              "      <td>0</td>\n",
              "      <td>342</td>\n",
              "      <td>2015</td>\n",
              "      <td>July</td>\n",
              "      <td>27</td>\n",
              "      <td>1</td>\n",
              "      <td>0</td>\n",
              "      <td>0</td>\n",
              "      <td>2</td>\n",
              "      <td>0.0</td>\n",
              "      <td>0</td>\n",
              "      <td>BB</td>\n",
              "      <td>PRT</td>\n",
              "      <td>Direct</td>\n",
              "      <td>Direct</td>\n",
              "      <td>0</td>\n",
              "      <td>0</td>\n",
              "      <td>0</td>\n",
              "      <td>C</td>\n",
              "      <td>C</td>\n",
              "      <td>3</td>\n",
              "      <td>No Deposit</td>\n",
              "      <td>NaN</td>\n",
              "      <td>NaN</td>\n",
              "      <td>0</td>\n",
              "      <td>Transient</td>\n",
              "      <td>0.0</td>\n",
              "      <td>0</td>\n",
              "      <td>0</td>\n",
              "      <td>Check-Out</td>\n",
              "      <td>2015-07-01</td>\n",
              "    </tr>\n",
              "    <tr>\n",
              "      <th>1</th>\n",
              "      <td>Resort Hotel</td>\n",
              "      <td>0</td>\n",
              "      <td>737</td>\n",
              "      <td>2015</td>\n",
              "      <td>July</td>\n",
              "      <td>27</td>\n",
              "      <td>1</td>\n",
              "      <td>0</td>\n",
              "      <td>0</td>\n",
              "      <td>2</td>\n",
              "      <td>0.0</td>\n",
              "      <td>0</td>\n",
              "      <td>BB</td>\n",
              "      <td>PRT</td>\n",
              "      <td>Direct</td>\n",
              "      <td>Direct</td>\n",
              "      <td>0</td>\n",
              "      <td>0</td>\n",
              "      <td>0</td>\n",
              "      <td>C</td>\n",
              "      <td>C</td>\n",
              "      <td>4</td>\n",
              "      <td>No Deposit</td>\n",
              "      <td>NaN</td>\n",
              "      <td>NaN</td>\n",
              "      <td>0</td>\n",
              "      <td>Transient</td>\n",
              "      <td>0.0</td>\n",
              "      <td>0</td>\n",
              "      <td>0</td>\n",
              "      <td>Check-Out</td>\n",
              "      <td>2015-07-01</td>\n",
              "    </tr>\n",
              "    <tr>\n",
              "      <th>2</th>\n",
              "      <td>Resort Hotel</td>\n",
              "      <td>0</td>\n",
              "      <td>7</td>\n",
              "      <td>2015</td>\n",
              "      <td>July</td>\n",
              "      <td>27</td>\n",
              "      <td>1</td>\n",
              "      <td>0</td>\n",
              "      <td>1</td>\n",
              "      <td>1</td>\n",
              "      <td>0.0</td>\n",
              "      <td>0</td>\n",
              "      <td>BB</td>\n",
              "      <td>GBR</td>\n",
              "      <td>Direct</td>\n",
              "      <td>Direct</td>\n",
              "      <td>0</td>\n",
              "      <td>0</td>\n",
              "      <td>0</td>\n",
              "      <td>A</td>\n",
              "      <td>C</td>\n",
              "      <td>0</td>\n",
              "      <td>No Deposit</td>\n",
              "      <td>NaN</td>\n",
              "      <td>NaN</td>\n",
              "      <td>0</td>\n",
              "      <td>Transient</td>\n",
              "      <td>75.0</td>\n",
              "      <td>0</td>\n",
              "      <td>0</td>\n",
              "      <td>Check-Out</td>\n",
              "      <td>2015-07-02</td>\n",
              "    </tr>\n",
              "    <tr>\n",
              "      <th>3</th>\n",
              "      <td>Resort Hotel</td>\n",
              "      <td>0</td>\n",
              "      <td>13</td>\n",
              "      <td>2015</td>\n",
              "      <td>July</td>\n",
              "      <td>27</td>\n",
              "      <td>1</td>\n",
              "      <td>0</td>\n",
              "      <td>1</td>\n",
              "      <td>1</td>\n",
              "      <td>0.0</td>\n",
              "      <td>0</td>\n",
              "      <td>BB</td>\n",
              "      <td>GBR</td>\n",
              "      <td>Corporate</td>\n",
              "      <td>Corporate</td>\n",
              "      <td>0</td>\n",
              "      <td>0</td>\n",
              "      <td>0</td>\n",
              "      <td>A</td>\n",
              "      <td>A</td>\n",
              "      <td>0</td>\n",
              "      <td>No Deposit</td>\n",
              "      <td>304.0</td>\n",
              "      <td>NaN</td>\n",
              "      <td>0</td>\n",
              "      <td>Transient</td>\n",
              "      <td>75.0</td>\n",
              "      <td>0</td>\n",
              "      <td>0</td>\n",
              "      <td>Check-Out</td>\n",
              "      <td>2015-07-02</td>\n",
              "    </tr>\n",
              "    <tr>\n",
              "      <th>4</th>\n",
              "      <td>Resort Hotel</td>\n",
              "      <td>0</td>\n",
              "      <td>14</td>\n",
              "      <td>2015</td>\n",
              "      <td>July</td>\n",
              "      <td>27</td>\n",
              "      <td>1</td>\n",
              "      <td>0</td>\n",
              "      <td>2</td>\n",
              "      <td>2</td>\n",
              "      <td>0.0</td>\n",
              "      <td>0</td>\n",
              "      <td>BB</td>\n",
              "      <td>GBR</td>\n",
              "      <td>Online TA</td>\n",
              "      <td>TA/TO</td>\n",
              "      <td>0</td>\n",
              "      <td>0</td>\n",
              "      <td>0</td>\n",
              "      <td>A</td>\n",
              "      <td>A</td>\n",
              "      <td>0</td>\n",
              "      <td>No Deposit</td>\n",
              "      <td>240.0</td>\n",
              "      <td>NaN</td>\n",
              "      <td>0</td>\n",
              "      <td>Transient</td>\n",
              "      <td>98.0</td>\n",
              "      <td>0</td>\n",
              "      <td>1</td>\n",
              "      <td>Check-Out</td>\n",
              "      <td>2015-07-03</td>\n",
              "    </tr>\n",
              "  </tbody>\n",
              "</table>\n",
              "</div>"
            ],
            "text/plain": [
              "          hotel  is_canceled  ...  reservation_status  reservation_status_date\n",
              "0  Resort Hotel            0  ...           Check-Out               2015-07-01\n",
              "1  Resort Hotel            0  ...           Check-Out               2015-07-01\n",
              "2  Resort Hotel            0  ...           Check-Out               2015-07-02\n",
              "3  Resort Hotel            0  ...           Check-Out               2015-07-02\n",
              "4  Resort Hotel            0  ...           Check-Out               2015-07-03\n",
              "\n",
              "[5 rows x 32 columns]"
            ]
          },
          "metadata": {
            "tags": []
          },
          "execution_count": 5
        }
      ]
    },
    {
      "cell_type": "code",
      "metadata": {
        "id": "F4K8fR9arkF8"
      },
      "source": [
        "1) country\n",
        "2) children\n",
        "3) agent\n",
        "4) company "
      ],
      "execution_count": null,
      "outputs": []
    },
    {
      "cell_type": "code",
      "metadata": {
        "colab": {
          "base_uri": "https://localhost:8080/"
        },
        "id": "dhVtTgNlqQmY",
        "outputId": "a2cbaeed-39c2-4615-b872-d5de46cae77b"
      },
      "source": [
        "df.info()"
      ],
      "execution_count": null,
      "outputs": [
        {
          "output_type": "stream",
          "text": [
            "<class 'pandas.core.frame.DataFrame'>\n",
            "RangeIndex: 119390 entries, 0 to 119389\n",
            "Data columns (total 32 columns):\n",
            " #   Column                          Non-Null Count   Dtype  \n",
            "---  ------                          --------------   -----  \n",
            " 0   hotel                           119390 non-null  object \n",
            " 1   is_canceled                     119390 non-null  int64  \n",
            " 2   lead_time                       119390 non-null  int64  \n",
            " 3   arrival_date_year               119390 non-null  int64  \n",
            " 4   arrival_date_month              119390 non-null  object \n",
            " 5   arrival_date_week_number        119390 non-null  int64  \n",
            " 6   arrival_date_day_of_month       119390 non-null  int64  \n",
            " 7   stays_in_weekend_nights         119390 non-null  int64  \n",
            " 8   stays_in_week_nights            119390 non-null  int64  \n",
            " 9   adults                          119390 non-null  int64  \n",
            " 10  children                        119386 non-null  float64\n",
            " 11  babies                          119390 non-null  int64  \n",
            " 12  meal                            119390 non-null  object \n",
            " 13  country                         118902 non-null  object \n",
            " 14  market_segment                  119390 non-null  object \n",
            " 15  distribution_channel            119390 non-null  object \n",
            " 16  is_repeated_guest               119390 non-null  int64  \n",
            " 17  previous_cancellations          119390 non-null  int64  \n",
            " 18  previous_bookings_not_canceled  119390 non-null  int64  \n",
            " 19  reserved_room_type              119390 non-null  object \n",
            " 20  assigned_room_type              119390 non-null  object \n",
            " 21  booking_changes                 119390 non-null  int64  \n",
            " 22  deposit_type                    119390 non-null  object \n",
            " 23  agent                           103050 non-null  float64\n",
            " 24  company                         6797 non-null    float64\n",
            " 25  days_in_waiting_list            119390 non-null  int64  \n",
            " 26  customer_type                   119390 non-null  object \n",
            " 27  adr                             119390 non-null  float64\n",
            " 28  required_car_parking_spaces     119390 non-null  int64  \n",
            " 29  total_of_special_requests       119390 non-null  int64  \n",
            " 30  reservation_status              119390 non-null  object \n",
            " 31  reservation_status_date         119390 non-null  object \n",
            "dtypes: float64(4), int64(16), object(12)\n",
            "memory usage: 29.1+ MB\n"
          ],
          "name": "stdout"
        }
      ]
    },
    {
      "cell_type": "code",
      "metadata": {
        "id": "l-HHRsV3rgWY"
      },
      "source": [
        "df_a = df.drop(columns= ['agent', 'company', 'adults'])"
      ],
      "execution_count": null,
      "outputs": []
    },
    {
      "cell_type": "code",
      "metadata": {
        "id": "WL_XeEG5rgT4"
      },
      "source": [
        "df_a.head(2)"
      ],
      "execution_count": null,
      "outputs": []
    },
    {
      "cell_type": "code",
      "metadata": {
        "id": "43J3EbNTtAID"
      },
      "source": [
        "df_a[df_a['is_canceled'] != 1].groupby('distribution_channel').agg({'adr': 'sum'}).sort_values(by='adr',ascending=False)"
      ],
      "execution_count": null,
      "outputs": []
    },
    {
      "cell_type": "code",
      "metadata": {
        "id": "9dkgKbyBukSS"
      },
      "source": [
        "df_a.groupby('distribution_channel').agg({'adr': 'sum'}).sort_values(by='adr',ascending=False)"
      ],
      "execution_count": null,
      "outputs": []
    },
    {
      "cell_type": "code",
      "metadata": {
        "id": "JQJsvhuVrgRI"
      },
      "source": [
        "df_a.groupby('distribution_channel').agg({'adr': 'mean'}).sort_values(by='adr',ascending=False)"
      ],
      "execution_count": null,
      "outputs": []
    },
    {
      "cell_type": "code",
      "metadata": {
        "colab": {
          "base_uri": "https://localhost:8080/"
        },
        "id": "z5o1iWLFtehI",
        "outputId": "6987584b-6e0e-4981-bec3-55d1350ff7e3"
      },
      "source": [
        "df_a['hotel'].value_counts()"
      ],
      "execution_count": null,
      "outputs": [
        {
          "output_type": "execute_result",
          "data": {
            "text/plain": [
              "City Hotel      79330\n",
              "Resort Hotel    40060\n",
              "Name: hotel, dtype: int64"
            ]
          },
          "metadata": {
            "tags": []
          },
          "execution_count": 87
        }
      ]
    },
    {
      "cell_type": "code",
      "metadata": {
        "colab": {
          "base_uri": "https://localhost:8080/"
        },
        "id": "d0uCZi3lrgOj",
        "outputId": "e4739dbf-6c19-419f-ded6-6e601fed9faf"
      },
      "source": [
        "df_a[df_a['is_canceled'] != 1]['hotel'].value_counts()"
      ],
      "execution_count": null,
      "outputs": [
        {
          "output_type": "execute_result",
          "data": {
            "text/plain": [
              "City Hotel      46228\n",
              "Resort Hotel    28938\n",
              "Name: hotel, dtype: int64"
            ]
          },
          "metadata": {
            "tags": []
          },
          "execution_count": 85
        }
      ]
    },
    {
      "cell_type": "code",
      "metadata": {
        "colab": {
          "base_uri": "https://localhost:8080/",
          "height": 447
        },
        "id": "oi0L87EF0Gxx",
        "outputId": "ed126ebd-1347-4c85-d293-7f9ddf4fac2d"
      },
      "source": [
        "df_count = df_a[df_a['is_canceled'] != 1].groupby(['country','hotel']).agg({'hotel': 'count'})\n",
        "df_count"
      ],
      "execution_count": null,
      "outputs": [
        {
          "output_type": "execute_result",
          "data": {
            "text/html": [
              "<div>\n",
              "<style scoped>\n",
              "    .dataframe tbody tr th:only-of-type {\n",
              "        vertical-align: middle;\n",
              "    }\n",
              "\n",
              "    .dataframe tbody tr th {\n",
              "        vertical-align: top;\n",
              "    }\n",
              "\n",
              "    .dataframe thead th {\n",
              "        text-align: right;\n",
              "    }\n",
              "</style>\n",
              "<table border=\"1\" class=\"dataframe\">\n",
              "  <thead>\n",
              "    <tr style=\"text-align: right;\">\n",
              "      <th></th>\n",
              "      <th></th>\n",
              "      <th>hotel</th>\n",
              "    </tr>\n",
              "    <tr>\n",
              "      <th>country</th>\n",
              "      <th>hotel</th>\n",
              "      <th></th>\n",
              "    </tr>\n",
              "  </thead>\n",
              "  <tbody>\n",
              "    <tr>\n",
              "      <th>ABW</th>\n",
              "      <th>City Hotel</th>\n",
              "      <td>2</td>\n",
              "    </tr>\n",
              "    <tr>\n",
              "      <th rowspan=\"2\" valign=\"top\">AGO</th>\n",
              "      <th>City Hotel</th>\n",
              "      <td>140</td>\n",
              "    </tr>\n",
              "    <tr>\n",
              "      <th>Resort Hotel</th>\n",
              "      <td>17</td>\n",
              "    </tr>\n",
              "    <tr>\n",
              "      <th>AIA</th>\n",
              "      <th>City Hotel</th>\n",
              "      <td>1</td>\n",
              "    </tr>\n",
              "    <tr>\n",
              "      <th>ALB</th>\n",
              "      <th>City Hotel</th>\n",
              "      <td>8</td>\n",
              "    </tr>\n",
              "    <tr>\n",
              "      <th>...</th>\n",
              "      <th>...</th>\n",
              "      <td>...</td>\n",
              "    </tr>\n",
              "    <tr>\n",
              "      <th>VNM</th>\n",
              "      <th>Resort Hotel</th>\n",
              "      <td>2</td>\n",
              "    </tr>\n",
              "    <tr>\n",
              "      <th rowspan=\"2\" valign=\"top\">ZAF</th>\n",
              "      <th>City Hotel</th>\n",
              "      <td>36</td>\n",
              "    </tr>\n",
              "    <tr>\n",
              "      <th>Resort Hotel</th>\n",
              "      <td>13</td>\n",
              "    </tr>\n",
              "    <tr>\n",
              "      <th>ZMB</th>\n",
              "      <th>Resort Hotel</th>\n",
              "      <td>1</td>\n",
              "    </tr>\n",
              "    <tr>\n",
              "      <th>ZWE</th>\n",
              "      <th>Resort Hotel</th>\n",
              "      <td>2</td>\n",
              "    </tr>\n",
              "  </tbody>\n",
              "</table>\n",
              "<p>268 rows × 1 columns</p>\n",
              "</div>"
            ],
            "text/plain": [
              "                      hotel\n",
              "country hotel              \n",
              "ABW     City Hotel        2\n",
              "AGO     City Hotel      140\n",
              "        Resort Hotel     17\n",
              "AIA     City Hotel        1\n",
              "ALB     City Hotel        8\n",
              "...                     ...\n",
              "VNM     Resort Hotel      2\n",
              "ZAF     City Hotel       36\n",
              "        Resort Hotel     13\n",
              "ZMB     Resort Hotel      1\n",
              "ZWE     Resort Hotel      2\n",
              "\n",
              "[268 rows x 1 columns]"
            ]
          },
          "metadata": {
            "tags": []
          },
          "execution_count": 86
        }
      ]
    },
    {
      "cell_type": "code",
      "metadata": {
        "id": "UcAS8BeB0Rh6"
      },
      "source": [
        "df_count.rename(columns={'hotel': 'no_of_bookings'},inplace=True)"
      ],
      "execution_count": null,
      "outputs": []
    },
    {
      "cell_type": "code",
      "metadata": {
        "id": "DH2fGYoP0dob"
      },
      "source": [
        "df_count.sort_values(by='no_of_bookings', ascending=False).head(20)"
      ],
      "execution_count": null,
      "outputs": []
    },
    {
      "cell_type": "code",
      "metadata": {
        "id": "__4ZAQnuyGvl"
      },
      "source": [
        "df_count2 = df_a.groupby(['country','hotel']).agg({'hotel': 'count'})\n",
        "df_count2"
      ],
      "execution_count": null,
      "outputs": []
    },
    {
      "cell_type": "code",
      "metadata": {
        "id": "i9stTc-WrgLQ"
      },
      "source": [
        "df_count2.rename(columns={'hotel': 'no_of_bookings'},inplace=True)"
      ],
      "execution_count": null,
      "outputs": []
    },
    {
      "cell_type": "code",
      "metadata": {
        "id": "5jRfAyCCrgGx"
      },
      "source": [
        "df_count2.sort_values(by='no_of_bookings', ascending=False).head(20)"
      ],
      "execution_count": null,
      "outputs": []
    },
    {
      "cell_type": "code",
      "metadata": {
        "id": "OPEcNXXtrf_Z"
      },
      "source": [
        "df_a.head(2)"
      ],
      "execution_count": null,
      "outputs": []
    },
    {
      "cell_type": "code",
      "metadata": {
        "id": "V1iS8LSFzr-K"
      },
      "source": [
        "df_b = pd.DataFrame(df_a[df_a['is_canceled'] !=1 ][['lead_time','is_canceled']])"
      ],
      "execution_count": null,
      "outputs": []
    },
    {
      "cell_type": "code",
      "metadata": {
        "id": "kfjoG80d11Xj"
      },
      "source": [
        "df_b.groupby('is_canceled')['lead_time'].describe()"
      ],
      "execution_count": null,
      "outputs": []
    },
    {
      "cell_type": "code",
      "metadata": {
        "id": "dxbQImY72GXT"
      },
      "source": [
        "df_b = pd.DataFrame(df_a[df_a['is_canceled'] ==1 ][['lead_time','is_canceled']])"
      ],
      "execution_count": null,
      "outputs": []
    },
    {
      "cell_type": "code",
      "metadata": {
        "id": "FagK5Vpi28KN"
      },
      "source": [
        "df_b.groupby('is_canceled')['lead_time'].describe()"
      ],
      "execution_count": null,
      "outputs": []
    },
    {
      "cell_type": "code",
      "metadata": {
        "id": "0iSmV5sO04D5"
      },
      "source": [
        "df_b.sort_values(by='lead_time', ascending=False)"
      ],
      "execution_count": null,
      "outputs": []
    },
    {
      "cell_type": "code",
      "metadata": {
        "id": "X_mdDy7C034p"
      },
      "source": [
        "df_a.head(2)"
      ],
      "execution_count": null,
      "outputs": []
    },
    {
      "cell_type": "code",
      "metadata": {
        "id": "VynT6LGc03og"
      },
      "source": [
        "df_c = df_a[['hotel','arrival_date_month']]\n",
        "df_c"
      ],
      "execution_count": null,
      "outputs": []
    },
    {
      "cell_type": "code",
      "metadata": {
        "id": "66YKj7Gy03a5"
      },
      "source": [
        "df_d = pd.DataFrame(df_c.groupby('arrival_date_month')['hotel'].value_counts())"
      ],
      "execution_count": null,
      "outputs": []
    },
    {
      "cell_type": "code",
      "metadata": {
        "id": "fEkdRkpo46da"
      },
      "source": [
        "df_d"
      ],
      "execution_count": null,
      "outputs": []
    },
    {
      "cell_type": "code",
      "metadata": {
        "id": "lb2E3Fhz4-La"
      },
      "source": [
        "df_d.rename(columns={'hotel':'no_of_bookings'}, inplace=True)\n",
        "df_d"
      ],
      "execution_count": null,
      "outputs": []
    },
    {
      "cell_type": "code",
      "metadata": {
        "id": "MOcbkRTn5eP7"
      },
      "source": [
        "# peak months are may, june, july and august\n",
        "\n",
        "df_d.sort_values(by='no_of_bookings', ascending=False)"
      ],
      "execution_count": null,
      "outputs": []
    },
    {
      "cell_type": "code",
      "metadata": {
        "id": "ltEeHGHL6C8J"
      },
      "source": [
        ""
      ],
      "execution_count": null,
      "outputs": []
    },
    {
      "cell_type": "code",
      "metadata": {
        "id": "xH5x1uQA6C5S"
      },
      "source": [
        ""
      ],
      "execution_count": null,
      "outputs": []
    },
    {
      "cell_type": "code",
      "metadata": {
        "id": "dNfhlT5A6C2M"
      },
      "source": [
        ""
      ],
      "execution_count": null,
      "outputs": []
    },
    {
      "cell_type": "code",
      "metadata": {
        "id": "utMk21876Cy6"
      },
      "source": [
        ""
      ],
      "execution_count": null,
      "outputs": []
    },
    {
      "cell_type": "code",
      "metadata": {
        "id": "ttIIkQyz6CvP"
      },
      "source": [
        ""
      ],
      "execution_count": null,
      "outputs": []
    },
    {
      "cell_type": "code",
      "metadata": {
        "id": "n2W-SlGs6Cr5"
      },
      "source": [
        ""
      ],
      "execution_count": null,
      "outputs": []
    },
    {
      "cell_type": "code",
      "metadata": {
        "id": "ju0uv9jv6Cnd"
      },
      "source": [
        ""
      ],
      "execution_count": null,
      "outputs": []
    },
    {
      "cell_type": "code",
      "metadata": {
        "id": "Zyr9g_Ic6Cda"
      },
      "source": [
        ""
      ],
      "execution_count": null,
      "outputs": []
    },
    {
      "cell_type": "markdown",
      "metadata": {
        "id": "MMCiTsC7mD17"
      },
      "source": [
        "#Harsh Mudgil"
      ]
    },
    {
      "cell_type": "markdown",
      "metadata": {
        "id": "YOJlERdxmRzd"
      },
      "source": [
        "#Determining distribution channels with high ADR per month\n",
        "\n",
        "Distribution channels with highest ADR, per month should be the focus of the marketing spend, to attract more customers."
      ]
    },
    {
      "cell_type": "code",
      "metadata": {
        "id": "-wAnMlOKmHPM"
      },
      "source": [
        "df_a = df.groupby(['arrival_date_month','distribution_channel'])['adr'].mean().unstack()"
      ],
      "execution_count": null,
      "outputs": []
    },
    {
      "cell_type": "code",
      "metadata": {
        "id": "ilAj3Z4mmLSX"
      },
      "source": [
        "df_a = df_a.fillna(0)"
      ],
      "execution_count": null,
      "outputs": []
    },
    {
      "cell_type": "code",
      "metadata": {
        "id": "bFb3va7emOgs"
      },
      "source": [
        "sns.scatterplot(data = df_a) #not actual plot below, only image."
      ],
      "execution_count": null,
      "outputs": []
    },
    {
      "cell_type": "markdown",
      "metadata": {
        "id": "2rtCZkHMnrR9"
      },
      "source": [
        "![image.png](data:image/png;base64,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)"
      ]
    },
    {
      "cell_type": "markdown",
      "metadata": {
        "id": "o6STCiUJmTkT"
      },
      "source": [
        "#Determining Distribution channel attracting most numbers of repeated guests, per month"
      ]
    },
    {
      "cell_type": "code",
      "metadata": {
        "id": "iYUS0Fo0mXjq"
      },
      "source": [
        "df_b = df.groupby(['arrival_date_month','distribution_channel'])['is_repeated_guest'].sum().unstack()"
      ],
      "execution_count": null,
      "outputs": []
    },
    {
      "cell_type": "code",
      "metadata": {
        "id": "NxtfLdPGmXqG"
      },
      "source": [
        "df_b = df_b.fillna(0)"
      ],
      "execution_count": null,
      "outputs": []
    },
    {
      "cell_type": "code",
      "metadata": {
        "id": "TlIuhsRAmbPO"
      },
      "source": [
        "sns.scatterplot(data = df_b)  #not actual plot below, only image. "
      ],
      "execution_count": null,
      "outputs": []
    },
    {
      "cell_type": "markdown",
      "metadata": {
        "id": "c5FyIxqqnwhF"
      },
      "source": [
        "![image.png](data:image/png;base64,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)"
      ]
    },
    {
      "cell_type": "markdown",
      "metadata": {
        "id": "G9Fj4tMNmf5w"
      },
      "source": [
        "#Determining distribution channels with highest cancellation percentage per month"
      ]
    },
    {
      "cell_type": "code",
      "metadata": {
        "id": "BQ0KPEE1mkRA"
      },
      "source": [
        "df_c = df.groupby(['arrival_date_month','distribution_channel']).agg({'is_canceled':['count','sum']})\n",
        "df_c['cancel_percent'] = (df_c['is_canceled'].loc[:,'sum']/df_c['is_canceled'].loc[:,'count'])*100\n",
        "df_c.drop('is_canceled',axis=1,inplace=True)\n",
        "df_c = df_c.unstack().fillna(0)\n",
        "df_c[['Corporate', 'Direct','GDS','TA/TO','Undefined']] = df_c.cancel_percent.loc[:,:'undefined']\n",
        "df_c.drop('cancel_percent',axis = 1,inplace=True)"
      ],
      "execution_count": null,
      "outputs": []
    },
    {
      "cell_type": "code",
      "metadata": {
        "id": "WXAtj1zjmyCg"
      },
      "source": [
        "sns.scatterplot(data = df_c) #not actual plot below, only image. "
      ],
      "execution_count": null,
      "outputs": []
    },
    {
      "cell_type": "markdown",
      "metadata": {
        "id": "E9DSz5vboNI9"
      },
      "source": [
        "![image.png](data:image/png;base64,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)"
      ]
    },
    {
      "cell_type": "markdown",
      "metadata": {
        "id": "Wrvmou4Kn1Uj"
      },
      "source": [
        ""
      ]
    },
    {
      "cell_type": "markdown",
      "metadata": {
        "id": "wCkwpw17m2Jk"
      },
      "source": [
        "#Determining distribution channels, bringing in customers with most number of special requests, per month."
      ]
    },
    {
      "cell_type": "code",
      "metadata": {
        "id": "q9yLTUvtm1Ti"
      },
      "source": [
        "df_d = df.groupby(['arrival_date_month','distribution_channel'])['total_of_special_requests'].sum().unstack()"
      ],
      "execution_count": null,
      "outputs": []
    },
    {
      "cell_type": "code",
      "metadata": {
        "id": "oK3WSUVVm6C8"
      },
      "source": [
        "sns.scatterplot(data = df_d) #not actual plot below, only image. "
      ],
      "execution_count": null,
      "outputs": []
    },
    {
      "cell_type": "code",
      "metadata": {
        "id": "kVwhGS9otLoB"
      },
      "source": [
        ""
      ],
      "execution_count": null,
      "outputs": []
    },
    {
      "cell_type": "markdown",
      "metadata": {
        "id": "JiHo_4kAoRbZ"
      },
      "source": [
        "![image.png](data:image/png;base64,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)"
      ]
    },
    {
      "cell_type": "markdown",
      "metadata": {
        "id": "GmqX_X4qnGGS"
      },
      "source": [
        "#Comprehensive Analysis plot coming up...."
      ]
    }
  ]
}